{
 "cells": [
  {
   "cell_type": "code",
   "execution_count": null,
   "metadata": {},
   "outputs": [
    {
     "name": "stdout",
     "output_type": "stream",
     "text": [
      "Solution steps:\n",
      "(0, 0)\n",
      "(0, 3)\n",
      "(3, 0)\n",
      "(3, 3)\n",
      "(4, 2)\n"
     ]
    }
   ],
   "source": [
    "from collections import deque\n",
    "\n",
    "def water_jug_dfs(jug1_capacity, jug2_capacity, target):\n",
    "    stack = []  \n",
    "    visited = set()  \n",
    "    \n",
    "    \n",
    "    stack.append((0, 0, []))\n",
    "    \n",
    "    while stack:\n",
    "        jug1, jug2, path = stack.pop()\n",
    "        \n",
    "        if (jug1, jug2) in visited:\n",
    "            continue\n",
    "        \n",
    "        visited.add((jug1, jug2))\n",
    "        path = path + [(jug1, jug2)]\n",
    "        \n",
    "    \n",
    "        if jug1 == target or jug2 == target:\n",
    "            return path\n",
    "        \n",
    "        \n",
    "        next_moves = [\n",
    "            (jug1_capacity, jug2),  \n",
    "            (jug1, jug2_capacity), \n",
    "            (0, jug2),              \n",
    "            (jug1, 0),              \n",
    "            (jug1 - min(jug1, jug2_capacity - jug2), jug2 + min(jug1, jug2_capacity - jug2)),\n",
    "            (jug1 + min(jug2, jug1_capacity - jug1), jug2 - min(jug2, jug1_capacity - jug1))\n",
    "        ]\n",
    "        \n",
    "        for move in next_moves:\n",
    "            if move not in visited:\n",
    "                stack.append((move[0], move[1], path))\n",
    "    \n",
    "    return None  \n",
    "\n",
    "\n",
    "jug1_capacity = 4  \n",
    "jug2_capacity = 3  \n",
    "target = 2  \n",
    "\n",
    "solution = water_jug_dfs(jug1_capacity, jug2_capacity, target)\n",
    "if solution:\n",
    "    print(\"Solution steps:\")\n",
    "    for state in solution:\n",
    "        print(state)\n",
    "else:\n",
    "    print(\"No solution found.\")\n"
   ]
  }
 ],
 "metadata": {
  "kernelspec": {
   "display_name": "Python 3",
   "language": "python",
   "name": "python3"
  },
  "language_info": {
   "codemirror_mode": {
    "name": "ipython",
    "version": 3
   },
   "file_extension": ".py",
   "mimetype": "text/x-python",
   "name": "python",
   "nbconvert_exporter": "python",
   "pygments_lexer": "ipython3",
   "version": "3.12.5"
  }
 },
 "nbformat": 4,
 "nbformat_minor": 2
}
