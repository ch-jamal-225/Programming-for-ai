{
 "cells": [
  {
   "cell_type": "code",
   "execution_count": 3,
   "metadata": {},
   "outputs": [
    {
     "name": "stdout",
     "output_type": "stream",
     "text": [
      "Q . . . .\n",
      ". . Q . .\n",
      ". . . . Q\n",
      ". Q . . .\n",
      ". . . Q .\n",
      "\n"
     ]
    }
   ],
   "source": [
    "def is_safe(board, row, col, n):\n",
    "    \n",
    "    for i in range(row):\n",
    "        if board[i][col] == 1:\n",
    "            return False\n",
    "\n",
    "   \n",
    "    i, j = row, col\n",
    "    while i >= 0 and j >= 0:\n",
    "        if board[i][j] == 1:\n",
    "            return False\n",
    "        i -= 1\n",
    "        j -= 1\n",
    "\n",
    "   \n",
    "    i, j = row, col\n",
    "    while i >= 0 and j < n:\n",
    "        if board[i][j] == 1:\n",
    "            return False\n",
    "        i -= 1\n",
    "        j += 1\n",
    "\n",
    "    return True\n",
    "\n",
    "def solve_n_queens(board, row, n):\n",
    "    if row == n:\n",
    "        return True  \n",
    "\n",
    "    for col in range(n):\n",
    "        if is_safe(board, row, col, n):\n",
    "            board[row][col] = 1  \n",
    "            if solve_n_queens(board, row + 1, n):\n",
    "                return True\n",
    "            board[row][col] = 0  \n",
    "\n",
    "    return False\n",
    "\n",
    "def print_board(board, n):\n",
    "    for row in board:\n",
    "        print(\" \".join(\"Q\" if cell == 1 else \".\" for cell in row))\n",
    "    print()\n",
    "\n",
    "def n_queens(n):\n",
    "    board = [[0] * n for _ in range(n)]\n",
    "    if solve_n_queens(board, 0, n):\n",
    "        print_board(board, n)\n",
    "    else:\n",
    "        print(\"No solution exists.\")\n",
    "\n",
    "\n",
    "a = int(input(\"Enter the number of queens  = \"))\n",
    "n_queens(a)\n"
   ]
  },
  {
   "cell_type": "code",
   "execution_count": null,
   "metadata": {},
   "outputs": [],
   "source": []
  }
 ],
 "metadata": {
  "kernelspec": {
   "display_name": "Python 3",
   "language": "python",
   "name": "python3"
  },
  "language_info": {
   "codemirror_mode": {
    "name": "ipython",
    "version": 3
   },
   "file_extension": ".py",
   "mimetype": "text/x-python",
   "name": "python",
   "nbconvert_exporter": "python",
   "pygments_lexer": "ipython3",
   "version": "3.12.5"
  }
 },
 "nbformat": 4,
 "nbformat_minor": 2
}
